{
 "cells": [
  {
   "cell_type": "markdown",
   "metadata": {},
   "source": [
    "## 从安然公司邮件中识别欺诈行为"
   ]
  },
  {
   "cell_type": "markdown",
   "metadata": {},
   "source": [
    "### 项目概述"
   ]
  },
  {
   "cell_type": "markdown",
   "metadata": {},
   "source": [
    "在2000年,安然公司是美国最大的公司之一。到2002时，由于广泛的公司欺诈，它已崩溃到破产中。在由此产生的联邦调查中，有相当数量机密信息进入公众眼前，包括成千上万的电子邮件和详细的财务数据。安然欺诈案是一个混乱而又引人入胜的大事件，从中可以发现几乎所有想像得到的企业违法行为。\n",
    "\n",
    "在这个项目中，我将使用Python机器学习库：[scikit-learn](http://scikit-learn.org/) 和安然电子邮件和财务数据，来建立模型，识别欺诈行为。\n",
    "\n",
    "本项目将运用到以下知识：\n",
    "- 特征缩放和特征选择\n",
    "- "
   ]
  },
  {
   "cell_type": "markdown",
   "metadata": {},
   "source": [
    "### 数据集基本信息"
   ]
  },
  {
   "cell_type": "markdown",
   "metadata": {},
   "source": [
    "聚合的安然电子邮件和财务数据集被存储到字典中，字典中的每个键是一个人名，而且值是包含此人所有特征的一个字典。"
   ]
  },
  {
   "cell_type": "code",
   "execution_count": 39,
   "metadata": {
    "collapsed": false
   },
   "outputs": [
    {
     "name": "stdout",
     "output_type": "stream",
     "text": [
      "The number of people: 146\n",
      "The number of feature: 21\n",
      "How many POI? 18\n"
     ]
    }
   ],
   "source": [
    "import pickle\n",
    "from feature_format import featureFormat\n",
    "data_dict = pickle.load(open('./data/final_project_dataset.pkl', 'rb'))\n",
    "print(\"The number of people:\", len(data_dict))\n",
    "print(\"The number of feature:\", len(data_dict[\"SKILLING JEFFREY K\"]))\n",
    "\n",
    "poi = 0\n",
    "for key, value in data_dict.items():\n",
    "    if data_dict[key][\"poi\"] == 1:\n",
    "        poi += 1\n",
    "print(\"How many POI?\", poi)"
   ]
  },
  {
   "cell_type": "markdown",
   "metadata": {},
   "source": [
    "原始数据集包含146条记录（人），14个财务数据特征，6个电子邮件特征，1个类标号（POI）；一共有18人被标记为嫌疑人（POI）"
   ]
  },
  {
   "cell_type": "markdown",
   "metadata": {},
   "source": [
    "原数据集为字典类型，python字典不能直接读入到sklearn分类或回归算法中，我编写了一些辅助函数`featureFormat()`，它可以获取特征名的列表和数据字典，然后返回`numpy`数组,如果特征没有某个特定人员的值(即NaN)，此函数还会用 0替换特征值。"
   ]
  },
  {
   "cell_type": "code",
   "execution_count": 40,
   "metadata": {
    "collapsed": false
   },
   "outputs": [
    {
     "data": {
      "text/html": [
       "<div>\n",
       "<table border=\"1\" class=\"dataframe\">\n",
       "  <thead>\n",
       "    <tr style=\"text-align: right;\">\n",
       "      <th></th>\n",
       "      <th>total_payments</th>\n",
       "      <th>deferral_payments</th>\n",
       "      <th>long_term_incentive</th>\n",
       "      <th>loan_advances</th>\n",
       "      <th>from_poi_to_this_person</th>\n",
       "      <th>from_messages</th>\n",
       "      <th>exercised_stock_options</th>\n",
       "      <th>total_stock_value</th>\n",
       "      <th>director_fees</th>\n",
       "      <th>shared_receipt_with_poi</th>\n",
       "      <th>bonus</th>\n",
       "      <th>restricted_stock</th>\n",
       "      <th>poi</th>\n",
       "      <th>from_this_person_to_poi</th>\n",
       "      <th>other</th>\n",
       "      <th>salary</th>\n",
       "      <th>restricted_stock_deferred</th>\n",
       "      <th>deferred_income</th>\n",
       "      <th>to_messages</th>\n",
       "      <th>expenses</th>\n",
       "    </tr>\n",
       "  </thead>\n",
       "  <tbody>\n",
       "    <tr>\n",
       "      <th>0</th>\n",
       "      <td>0.0</td>\n",
       "      <td>0.0</td>\n",
       "      <td>0.0</td>\n",
       "      <td>0.0</td>\n",
       "      <td>0.0</td>\n",
       "      <td>0.0</td>\n",
       "      <td>0.0</td>\n",
       "      <td>189518.0</td>\n",
       "      <td>0.0</td>\n",
       "      <td>0.0</td>\n",
       "      <td>0.0</td>\n",
       "      <td>662086.0</td>\n",
       "      <td>0.0</td>\n",
       "      <td>0.0</td>\n",
       "      <td>0.0</td>\n",
       "      <td>0.0</td>\n",
       "      <td>-472568.0</td>\n",
       "      <td>0.0</td>\n",
       "      <td>0.0</td>\n",
       "      <td>0.0</td>\n",
       "    </tr>\n",
       "    <tr>\n",
       "      <th>1</th>\n",
       "      <td>1490344.0</td>\n",
       "      <td>27610.0</td>\n",
       "      <td>0.0</td>\n",
       "      <td>0.0</td>\n",
       "      <td>240.0</td>\n",
       "      <td>40.0</td>\n",
       "      <td>0.0</td>\n",
       "      <td>698242.0</td>\n",
       "      <td>0.0</td>\n",
       "      <td>1132.0</td>\n",
       "      <td>1200000.0</td>\n",
       "      <td>698242.0</td>\n",
       "      <td>1.0</td>\n",
       "      <td>11.0</td>\n",
       "      <td>101740.0</td>\n",
       "      <td>288542.0</td>\n",
       "      <td>0.0</td>\n",
       "      <td>-144062.0</td>\n",
       "      <td>1758.0</td>\n",
       "      <td>16514.0</td>\n",
       "    </tr>\n",
       "    <tr>\n",
       "      <th>2</th>\n",
       "      <td>0.0</td>\n",
       "      <td>0.0</td>\n",
       "      <td>0.0</td>\n",
       "      <td>0.0</td>\n",
       "      <td>0.0</td>\n",
       "      <td>0.0</td>\n",
       "      <td>0.0</td>\n",
       "      <td>0.0</td>\n",
       "      <td>98784.0</td>\n",
       "      <td>0.0</td>\n",
       "      <td>0.0</td>\n",
       "      <td>32460.0</td>\n",
       "      <td>0.0</td>\n",
       "      <td>0.0</td>\n",
       "      <td>0.0</td>\n",
       "      <td>0.0</td>\n",
       "      <td>-32460.0</td>\n",
       "      <td>-98784.0</td>\n",
       "      <td>0.0</td>\n",
       "      <td>0.0</td>\n",
       "    </tr>\n",
       "    <tr>\n",
       "      <th>3</th>\n",
       "      <td>618850.0</td>\n",
       "      <td>0.0</td>\n",
       "      <td>180250.0</td>\n",
       "      <td>0.0</td>\n",
       "      <td>4.0</td>\n",
       "      <td>59.0</td>\n",
       "      <td>0.0</td>\n",
       "      <td>659249.0</td>\n",
       "      <td>0.0</td>\n",
       "      <td>233.0</td>\n",
       "      <td>250000.0</td>\n",
       "      <td>659249.0</td>\n",
       "      <td>0.0</td>\n",
       "      <td>0.0</td>\n",
       "      <td>427316.0</td>\n",
       "      <td>187922.0</td>\n",
       "      <td>0.0</td>\n",
       "      <td>-485813.0</td>\n",
       "      <td>383.0</td>\n",
       "      <td>59175.0</td>\n",
       "    </tr>\n",
       "    <tr>\n",
       "      <th>4</th>\n",
       "      <td>111529.0</td>\n",
       "      <td>0.0</td>\n",
       "      <td>0.0</td>\n",
       "      <td>0.0</td>\n",
       "      <td>204.0</td>\n",
       "      <td>221.0</td>\n",
       "      <td>7509039.0</td>\n",
       "      <td>7890324.0</td>\n",
       "      <td>0.0</td>\n",
       "      <td>1063.0</td>\n",
       "      <td>0.0</td>\n",
       "      <td>381285.0</td>\n",
       "      <td>0.0</td>\n",
       "      <td>49.0</td>\n",
       "      <td>0.0</td>\n",
       "      <td>96840.0</td>\n",
       "      <td>0.0</td>\n",
       "      <td>0.0</td>\n",
       "      <td>1671.0</td>\n",
       "      <td>14689.0</td>\n",
       "    </tr>\n",
       "  </tbody>\n",
       "</table>\n",
       "</div>"
      ],
      "text/plain": [
       "   total_payments  deferral_payments  long_term_incentive  loan_advances  \\\n",
       "0             0.0                0.0                  0.0            0.0   \n",
       "1       1490344.0            27610.0                  0.0            0.0   \n",
       "2             0.0                0.0                  0.0            0.0   \n",
       "3        618850.0                0.0             180250.0            0.0   \n",
       "4        111529.0                0.0                  0.0            0.0   \n",
       "\n",
       "   from_poi_to_this_person  from_messages  exercised_stock_options  \\\n",
       "0                      0.0            0.0                      0.0   \n",
       "1                    240.0           40.0                      0.0   \n",
       "2                      0.0            0.0                      0.0   \n",
       "3                      4.0           59.0                      0.0   \n",
       "4                    204.0          221.0                7509039.0   \n",
       "\n",
       "   total_stock_value  director_fees  shared_receipt_with_poi      bonus  \\\n",
       "0           189518.0            0.0                      0.0        0.0   \n",
       "1           698242.0            0.0                   1132.0  1200000.0   \n",
       "2                0.0        98784.0                      0.0        0.0   \n",
       "3           659249.0            0.0                    233.0   250000.0   \n",
       "4          7890324.0            0.0                   1063.0        0.0   \n",
       "\n",
       "   restricted_stock  poi  from_this_person_to_poi     other    salary  \\\n",
       "0          662086.0  0.0                      0.0       0.0       0.0   \n",
       "1          698242.0  1.0                     11.0  101740.0  288542.0   \n",
       "2           32460.0  0.0                      0.0       0.0       0.0   \n",
       "3          659249.0  0.0                      0.0  427316.0  187922.0   \n",
       "4          381285.0  0.0                     49.0       0.0   96840.0   \n",
       "\n",
       "   restricted_stock_deferred  deferred_income  to_messages  expenses  \n",
       "0                  -472568.0              0.0          0.0       0.0  \n",
       "1                        0.0        -144062.0       1758.0   16514.0  \n",
       "2                   -32460.0         -98784.0          0.0       0.0  \n",
       "3                        0.0        -485813.0        383.0   59175.0  \n",
       "4                        0.0              0.0       1671.0   14689.0  "
      ]
     },
     "execution_count": 40,
     "metadata": {},
     "output_type": "execute_result"
    }
   ],
   "source": [
    "import pandas as pd\n",
    "features_list = ['total_payments', 'deferral_payments', 'long_term_incentive', 'loan_advances', 'from_poi_to_this_person', \\\n",
    "            'from_messages', 'exercised_stock_options', 'total_stock_value', 'director_fees', 'shared_receipt_with_poi',\\\n",
    "            'bonus', 'restricted_stock', 'poi', 'from_this_person_to_poi', 'other', 'salary', 'restricted_stock_deferred',\\\n",
    "            'deferred_income', 'to_messages', 'expenses']\n",
    "enron_data = featureFormat(data_dict, features_list)\n",
    "df = pd.DataFrame(enron_data, columns=features)\n",
    "df.head()"
   ]
  },
  {
   "cell_type": "markdown",
   "metadata": {},
   "source": [
    "### 数据探索"
   ]
  },
  {
   "cell_type": "markdown",
   "metadata": {},
   "source": [
    "首先，我选择了工资(salary)和奖金(bonus)两个特征（其他特征意义不太明了，且为0的较多，所有这里只观察这两个特征）。"
   ]
  },
  {
   "cell_type": "code",
   "execution_count": 41,
   "metadata": {
    "collapsed": false
   },
   "outputs": [
    {
     "data": {
      "image/png": "[encoded data removed]",
      "text/plain": [
       "<matplotlib.figure.Figure at 0x7febe40fec50>"
      ]
     },
     "metadata": {},
     "output_type": "display_data"
    }
   ],
   "source": [
    "import matplotlib.pyplot as plt\n",
    "%matplotlib inline\n",
    "plt.scatter(df['salary'], df['bonus'])\n",
    "plt.xlabel(\"salary\")\n",
    "plt.ylabel(\"bonus\")\n",
    "plt.show()"
   ]
  },
  {
   "cell_type": "markdown",
   "metadata": {},
   "source": [
    "显然，我们可以发现：右上角的点远离其他那些聚集在一起在左下角的数据点。查询数据集后，发现把**TOTAL**也当做了一名员工，事实上，**TOTAL**是各个财务特征的总和。于是去除该异常值。"
   ]
  },
  {
   "cell_type": "code",
   "execution_count": 43,
   "metadata": {
    "collapsed": false
   },
   "outputs": [
    {
     "data": {
      "image/png": "[encoded data removed]",
      "text/plain": [
       "<matplotlib.figure.Figure at 0x7febe427c550>"
      ]
     },
     "metadata": {},
     "output_type": "display_data"
    }
   ],
   "source": [
    "# 去除异常值\n",
    "outliers = []\n",
    "for i, val in enumerate(df['salary']):\n",
    "    outliers.append((i, val))\n",
    "\n",
    "outliers = sorted(outliers, key=lambda x:x[1], reverse=True)[:1]\n",
    "for i, val in outliers:\n",
    "    df = df.drop(i)\n",
    "    \n",
    "plt.scatter(df['salary'], df['bonus'])\n",
    "plt.xlabel(\"salary\")\n",
    "plt.ylabel(\"bonus\")\n",
    "plt.show()"
   ]
  },
  {
   "cell_type": "markdown",
   "metadata": {},
   "source": [
    "去除异常值后，虽然还一些其他点的值非常大，但它们是有效的数据点，可能表明一些差异在POI和non-POI，所有保留这几个数据点。"
   ]
  },
  {
   "cell_type": "markdown",
   "metadata": {},
   "source": [
    "### 特征选择"
   ]
  },
  {
   "cell_type": "markdown",
   "metadata": {},
   "source": [
    "凭直觉，特征**from this person to poi**和**this person from poi**，应该与是否为POI和有关系，于是画出这两个特征的散点图："
   ]
  },
  {
   "cell_type": "code",
   "execution_count": 44,
   "metadata": {
    "collapsed": false
   },
   "outputs": [
    {
     "data": {
      "image/png": "[encoded data removed]",
      "text/plain": [
       "<matplotlib.figure.Figure at 0x7febe423f278>"
      ]
     },
     "metadata": {},
     "output_type": "display_data"
    }
   ],
   "source": [
    "# 画出'from_this_person_to_poi', 'from_poi_to_this_person'散点图\n",
    "plt.scatter(df['from_this_person_to_poi'][df['poi'] == 0], df['from_poi_to_this_person'][df['poi'] == 0], c='b', label=\"non-POI\")\n",
    "plt.scatter(df['from_this_person_to_poi'][df['poi'] == 1], df['from_poi_to_this_person'][df['poi'] == 1], c='r', label=\"POI\")\n",
    "plt.legend(loc='upper right')\n",
    "plt.xlabel('from this person to poi')\n",
    "plt.ylabel('from poi to this person')\n",
    "plt.show()"
   ]
  },
  {
   "cell_type": "markdown",
   "metadata": {},
   "source": [
    "但是从绘制出的散点图来看，特征**from this person to poi**和**this person from poi**并没有很强关系可以挖掘，以区分是否为POI。于是，创建两个新特征**fraction_from_poi_email**和**fraction_to_poi_email**，分别代表来自POI的电子邮件数占总收到的电子邮件数的比例、发生给POI的电子邮件数占总发送电子邮件数的比例："
   ]
  },
  {
   "cell_type": "code",
   "execution_count": 45,
   "metadata": {
    "collapsed": false
   },
   "outputs": [
    {
     "data": {
      "text/html": [
       "<div>\n",
       "<table border=\"1\" class=\"dataframe\">\n",
       "  <thead>\n",
       "    <tr style=\"text-align: right;\">\n",
       "      <th></th>\n",
       "      <th>total_payments</th>\n",
       "      <th>deferral_payments</th>\n",
       "      <th>long_term_incentive</th>\n",
       "      <th>loan_advances</th>\n",
       "      <th>from_poi_to_this_person</th>\n",
       "      <th>from_messages</th>\n",
       "      <th>exercised_stock_options</th>\n",
       "      <th>total_stock_value</th>\n",
       "      <th>director_fees</th>\n",
       "      <th>shared_receipt_with_poi</th>\n",
       "      <th>...</th>\n",
       "      <th>poi</th>\n",
       "      <th>from_this_person_to_poi</th>\n",
       "      <th>other</th>\n",
       "      <th>salary</th>\n",
       "      <th>restricted_stock_deferred</th>\n",
       "      <th>deferred_income</th>\n",
       "      <th>to_messages</th>\n",
       "      <th>expenses</th>\n",
       "      <th>fraction_from_poi_email</th>\n",
       "      <th>fraction_to_poi_email</th>\n",
       "    </tr>\n",
       "  </thead>\n",
       "  <tbody>\n",
       "    <tr>\n",
       "      <th>0</th>\n",
       "      <td>0.0</td>\n",
       "      <td>0.0</td>\n",
       "      <td>0.0</td>\n",
       "      <td>0.0</td>\n",
       "      <td>0.0</td>\n",
       "      <td>0.0</td>\n",
       "      <td>0.0</td>\n",
       "      <td>189518.0</td>\n",
       "      <td>0.0</td>\n",
       "      <td>0.0</td>\n",
       "      <td>...</td>\n",
       "      <td>0.0</td>\n",
       "      <td>0.0</td>\n",
       "      <td>0.0</td>\n",
       "      <td>0.0</td>\n",
       "      <td>-472568.0</td>\n",
       "      <td>0.0</td>\n",
       "      <td>0.0</td>\n",
       "      <td>0.0</td>\n",
       "      <td>0.000000</td>\n",
       "      <td>0.000000</td>\n",
       "    </tr>\n",
       "    <tr>\n",
       "      <th>1</th>\n",
       "      <td>1490344.0</td>\n",
       "      <td>27610.0</td>\n",
       "      <td>0.0</td>\n",
       "      <td>0.0</td>\n",
       "      <td>240.0</td>\n",
       "      <td>40.0</td>\n",
       "      <td>0.0</td>\n",
       "      <td>698242.0</td>\n",
       "      <td>0.0</td>\n",
       "      <td>1132.0</td>\n",
       "      <td>...</td>\n",
       "      <td>1.0</td>\n",
       "      <td>11.0</td>\n",
       "      <td>101740.0</td>\n",
       "      <td>288542.0</td>\n",
       "      <td>0.0</td>\n",
       "      <td>-144062.0</td>\n",
       "      <td>1758.0</td>\n",
       "      <td>16514.0</td>\n",
       "      <td>0.136519</td>\n",
       "      <td>0.275000</td>\n",
       "    </tr>\n",
       "    <tr>\n",
       "      <th>2</th>\n",
       "      <td>0.0</td>\n",
       "      <td>0.0</td>\n",
       "      <td>0.0</td>\n",
       "      <td>0.0</td>\n",
       "      <td>0.0</td>\n",
       "      <td>0.0</td>\n",
       "      <td>0.0</td>\n",
       "      <td>0.0</td>\n",
       "      <td>98784.0</td>\n",
       "      <td>0.0</td>\n",
       "      <td>...</td>\n",
       "      <td>0.0</td>\n",
       "      <td>0.0</td>\n",
       "      <td>0.0</td>\n",
       "      <td>0.0</td>\n",
       "      <td>-32460.0</td>\n",
       "      <td>-98784.0</td>\n",
       "      <td>0.0</td>\n",
       "      <td>0.0</td>\n",
       "      <td>0.000000</td>\n",
       "      <td>0.000000</td>\n",
       "    </tr>\n",
       "    <tr>\n",
       "      <th>3</th>\n",
       "      <td>618850.0</td>\n",
       "      <td>0.0</td>\n",
       "      <td>180250.0</td>\n",
       "      <td>0.0</td>\n",
       "      <td>4.0</td>\n",
       "      <td>59.0</td>\n",
       "      <td>0.0</td>\n",
       "      <td>659249.0</td>\n",
       "      <td>0.0</td>\n",
       "      <td>233.0</td>\n",
       "      <td>...</td>\n",
       "      <td>0.0</td>\n",
       "      <td>0.0</td>\n",
       "      <td>427316.0</td>\n",
       "      <td>187922.0</td>\n",
       "      <td>0.0</td>\n",
       "      <td>-485813.0</td>\n",
       "      <td>383.0</td>\n",
       "      <td>59175.0</td>\n",
       "      <td>0.010444</td>\n",
       "      <td>0.000000</td>\n",
       "    </tr>\n",
       "    <tr>\n",
       "      <th>4</th>\n",
       "      <td>111529.0</td>\n",
       "      <td>0.0</td>\n",
       "      <td>0.0</td>\n",
       "      <td>0.0</td>\n",
       "      <td>204.0</td>\n",
       "      <td>221.0</td>\n",
       "      <td>7509039.0</td>\n",
       "      <td>7890324.0</td>\n",
       "      <td>0.0</td>\n",
       "      <td>1063.0</td>\n",
       "      <td>...</td>\n",
       "      <td>0.0</td>\n",
       "      <td>49.0</td>\n",
       "      <td>0.0</td>\n",
       "      <td>96840.0</td>\n",
       "      <td>0.0</td>\n",
       "      <td>0.0</td>\n",
       "      <td>1671.0</td>\n",
       "      <td>14689.0</td>\n",
       "      <td>0.122083</td>\n",
       "      <td>0.221719</td>\n",
       "    </tr>\n",
       "  </tbody>\n",
       "</table>\n",
       "<p>5 rows × 22 columns</p>\n",
       "</div>"
      ],
      "text/plain": [
       "   total_payments  deferral_payments  long_term_incentive  loan_advances  \\\n",
       "0             0.0                0.0                  0.0            0.0   \n",
       "1       1490344.0            27610.0                  0.0            0.0   \n",
       "2             0.0                0.0                  0.0            0.0   \n",
       "3        618850.0                0.0             180250.0            0.0   \n",
       "4        111529.0                0.0                  0.0            0.0   \n",
       "\n",
       "   from_poi_to_this_person  from_messages  exercised_stock_options  \\\n",
       "0                      0.0            0.0                      0.0   \n",
       "1                    240.0           40.0                      0.0   \n",
       "2                      0.0            0.0                      0.0   \n",
       "3                      4.0           59.0                      0.0   \n",
       "4                    204.0          221.0                7509039.0   \n",
       "\n",
       "   total_stock_value  director_fees  shared_receipt_with_poi  \\\n",
       "0           189518.0            0.0                      0.0   \n",
       "1           698242.0            0.0                   1132.0   \n",
       "2                0.0        98784.0                      0.0   \n",
       "3           659249.0            0.0                    233.0   \n",
       "4          7890324.0            0.0                   1063.0   \n",
       "\n",
       "           ...            poi  from_this_person_to_poi     other    salary  \\\n",
       "0          ...            0.0                      0.0       0.0       0.0   \n",
       "1          ...            1.0                     11.0  101740.0  288542.0   \n",
       "2          ...            0.0                      0.0       0.0       0.0   \n",
       "3          ...            0.0                      0.0  427316.0  187922.0   \n",
       "4          ...            0.0                     49.0       0.0   96840.0   \n",
       "\n",
       "   restricted_stock_deferred  deferred_income  to_messages  expenses  \\\n",
       "0                  -472568.0              0.0          0.0       0.0   \n",
       "1                        0.0        -144062.0       1758.0   16514.0   \n",
       "2                   -32460.0         -98784.0          0.0       0.0   \n",
       "3                        0.0        -485813.0        383.0   59175.0   \n",
       "4                        0.0              0.0       1671.0   14689.0   \n",
       "\n",
       "   fraction_from_poi_email  fraction_to_poi_email  \n",
       "0                 0.000000               0.000000  \n",
       "1                 0.136519               0.275000  \n",
       "2                 0.000000               0.000000  \n",
       "3                 0.010444               0.000000  \n",
       "4                 0.122083               0.221719  \n",
       "\n",
       "[5 rows x 22 columns]"
      ]
     },
     "execution_count": 45,
     "metadata": {},
     "output_type": "execute_result"
    }
   ],
   "source": [
    "# 创建两个新特征\n",
    "df['fraction_from_poi_email'] = 0\n",
    "df['fraction_to_poi_email'] = 0\n",
    "\n",
    "df.loc[:, 'fraction_from_poi_email'] = df.loc[:, 'from_poi_to_this_person'] / df.loc[:, 'to_messages']\n",
    "df.loc[:, 'fraction_to_poi_email'] = df.loc[:, 'from_this_person_to_poi'] / df.loc[:, 'from_messages']\n",
    "\n",
    "df.fillna(0, inplace=True)\n",
    "\n",
    "df.head()"
   ]
  },
  {
   "cell_type": "code",
   "execution_count": 46,
   "metadata": {
    "collapsed": false
   },
   "outputs": [
    {
     "data": {
      "image/png": "[encoded data removed]",
      "text/plain": [
       "<matplotlib.figure.Figure at 0x7febe42a90b8>"
      ]
     },
     "metadata": {},
     "output_type": "display_data"
    }
   ],
   "source": [
    "# 可视化新特征\n",
    "plt.scatter(df['fraction_from_poi_email'][df['poi'] == 0], df['fraction_to_poi_email'][df['poi'] == 0], c='b', label=\"non-POI\")\n",
    "plt.scatter(df['fraction_from_poi_email'][df['poi'] == 1], df['fraction_to_poi_email'][df['poi'] == 1], c='r', label=\"POI\")\n",
    "plt.legend(loc='upper right')\n",
    "plt.xlabel('fraction of emails this person gets from POI')\n",
    "plt.ylabel('fraction of emails this person sends to POI')\n",
    "plt.show()"
   ]
  },
  {
   "cell_type": "markdown",
   "metadata": {},
   "source": [
    "从这个新的散点图，我们似乎可以发现红色的数据点（POI）聚集在散点图的中心"
   ]
  },
  {
   "cell_type": "code",
   "execution_count": 50,
   "metadata": {
    "collapsed": false
   },
   "outputs": [],
   "source": [
    "features = df.drop(['poi'], axis=1)\n",
    "labels = df.loc[:, 'poi']"
   ]
  },
  {
   "cell_type": "code",
   "execution_count": 68,
   "metadata": {
    "collapsed": false
   },
   "outputs": [],
   "source": [
    "features_list = ['total_payments', 'deferral_payments', 'long_term_incentive', 'loan_advances', 'from_poi_to_this_person', \\\n",
    "            'from_messages', 'exercised_stock_options', 'total_stock_value', 'director_fees', 'shared_receipt_with_poi',\\\n",
    "            'bonus', 'restricted_stock', 'from_this_person_to_poi', 'other', 'salary', 'restricted_stock_deferred',\\\n",
    "            'deferred_income', 'to_messages', 'expenses', 'fraction_from_poi_email', 'fraction_to_poi_email']"
   ]
  },
  {
   "cell_type": "markdown",
   "metadata": {},
   "source": [
    "使用[Tree-based feature selection](http://scikit-learn.org/stable/modules/feature_selection.html#tree-based-feature-selection)计算出个特征的重要性"
   ]
  },
  {
   "cell_type": "code",
   "execution_count": 94,
   "metadata": {
    "collapsed": false
   },
   "outputs": [
    {
     "name": "stdout",
     "output_type": "stream",
     "text": [
      "[('total_stock_value', 0.11015467414214634), ('exercised_stock_options', 0.083663364574373247), ('deferred_income', 0.080289714600270373), ('fraction_to_poi_email', 0.074632008765518065), ('restricted_stock', 0.068360397990349528), ('expenses', 0.067744381674889678), ('bonus', 0.066120783121517632), ('shared_receipt_with_poi', 0.062698024088307963), ('other', 0.058634490259551489), ('total_payments', 0.054193954851614046), ('salary', 0.045539354510978493), ('from_this_person_to_poi', 0.043774618443622536), ('fraction_from_poi_email', 0.041807936861384565), ('from_poi_to_this_person', 0.041617154926070189), ('to_messages', 0.031422857142857141), ('long_term_incentive', 0.021641046594982064), ('deferral_payments', 0.018516244587307901), ('from_messages', 0.01675517096205268), ('loan_advances', 0.0073582129653635949), ('restricted_stock_deferred', 0.0035164069952305205), ('director_fees', 0.0015592019416119324)]\n"
     ]
    }
   ],
   "source": [
    "from sklearn.ensemble import ExtraTreesClassifier\n",
    "clf = ExtraTreesClassifier()\n",
    "clf = clf.fit(features, labels)\n",
    "importances = clf.feature_importances_\n",
    "impfeat = []\n",
    "for i in range(21):\n",
    "    impfeat.append((features_list[i], importances[i]))\n",
    "\n",
    "impfeat.sort(key=lambda x:x[1], reverse=True)\n",
    "print(impfeat)"
   ]
  },
  {
   "cell_type": "code",
   "execution_count": 98,
   "metadata": {
    "collapsed": false
   },
   "outputs": [],
   "source": [
    "# 选取重要性最大的8个特征\n",
    "features_list = ['total_stock_value', 'exercised_stock_options', 'deferred_income', 'fraction_to_poi_email', \\\n",
    "                 'restricted_stock', 'expenses', 'bonus', 'shared_receipt_with_poi']\n",
    "\n",
    "features = df.loc[:, features_list]\n",
    "labels = df.loc[:, 'poi']"
   ]
  },
  {
   "cell_type": "markdown",
   "metadata": {},
   "source": [
    "### Algorithm Selection"
   ]
  },
  {
   "cell_type": "code",
   "execution_count": 99,
   "metadata": {
    "collapsed": false
   },
   "outputs": [
    {
     "data": {
      "text/html": [
       "<div>\n",
       "<table border=\"1\" class=\"dataframe\">\n",
       "  <thead>\n",
       "    <tr style=\"text-align: right;\">\n",
       "      <th></th>\n",
       "      <th>total_stock_value</th>\n",
       "      <th>exercised_stock_options</th>\n",
       "      <th>deferred_income</th>\n",
       "      <th>fraction_to_poi_email</th>\n",
       "      <th>restricted_stock</th>\n",
       "      <th>expenses</th>\n",
       "      <th>bonus</th>\n",
       "      <th>shared_receipt_with_poi</th>\n",
       "    </tr>\n",
       "  </thead>\n",
       "  <tbody>\n",
       "    <tr>\n",
       "      <th>118</th>\n",
       "      <td>139130.0</td>\n",
       "      <td>139130.0</td>\n",
       "      <td>0.0</td>\n",
       "      <td>0.000000</td>\n",
       "      <td>0.0</td>\n",
       "      <td>0.0</td>\n",
       "      <td>0.0</td>\n",
       "      <td>0.0</td>\n",
       "    </tr>\n",
       "    <tr>\n",
       "      <th>19</th>\n",
       "      <td>0.0</td>\n",
       "      <td>0.0</td>\n",
       "      <td>-36666.0</td>\n",
       "      <td>0.000000</td>\n",
       "      <td>0.0</td>\n",
       "      <td>228656.0</td>\n",
       "      <td>0.0</td>\n",
       "      <td>0.0</td>\n",
       "    </tr>\n",
       "    <tr>\n",
       "      <th>83</th>\n",
       "      <td>955873.0</td>\n",
       "      <td>493489.0</td>\n",
       "      <td>0.0</td>\n",
       "      <td>0.000000</td>\n",
       "      <td>462384.0</td>\n",
       "      <td>0.0</td>\n",
       "      <td>0.0</td>\n",
       "      <td>22.0</td>\n",
       "    </tr>\n",
       "    <tr>\n",
       "      <th>98</th>\n",
       "      <td>698920.0</td>\n",
       "      <td>0.0</td>\n",
       "      <td>0.0</td>\n",
       "      <td>0.342105</td>\n",
       "      <td>698920.0</td>\n",
       "      <td>0.0</td>\n",
       "      <td>700000.0</td>\n",
       "      <td>2565.0</td>\n",
       "    </tr>\n",
       "    <tr>\n",
       "      <th>56</th>\n",
       "      <td>2072035.0</td>\n",
       "      <td>1441898.0</td>\n",
       "      <td>0.0</td>\n",
       "      <td>0.030959</td>\n",
       "      <td>630137.0</td>\n",
       "      <td>178979.0</td>\n",
       "      <td>2000000.0</td>\n",
       "      <td>1730.0</td>\n",
       "    </tr>\n",
       "  </tbody>\n",
       "</table>\n",
       "</div>"
      ],
      "text/plain": [
       "     total_stock_value  exercised_stock_options  deferred_income  \\\n",
       "118           139130.0                 139130.0              0.0   \n",
       "19                 0.0                      0.0         -36666.0   \n",
       "83            955873.0                 493489.0              0.0   \n",
       "98            698920.0                      0.0              0.0   \n",
       "56           2072035.0                1441898.0              0.0   \n",
       "\n",
       "     fraction_to_poi_email  restricted_stock  expenses      bonus  \\\n",
       "118               0.000000               0.0       0.0        0.0   \n",
       "19                0.000000               0.0  228656.0        0.0   \n",
       "83                0.000000          462384.0       0.0        0.0   \n",
       "98                0.342105          698920.0       0.0   700000.0   \n",
       "56                0.030959          630137.0  178979.0  2000000.0   \n",
       "\n",
       "     shared_receipt_with_poi  \n",
       "118                      0.0  \n",
       "19                       0.0  \n",
       "83                      22.0  \n",
       "98                    2565.0  \n",
       "56                    1730.0  "
      ]
     },
     "execution_count": 99,
     "metadata": {},
     "output_type": "execute_result"
    }
   ],
   "source": [
    "from sklearn.cross_validation import train_test_split\n",
    "features_train, features_test, labels_train, labels_test = train_test_split(features, labels, test_size=0.3, random_state=42)"
   ]
  },
  {
   "cell_type": "code",
   "execution_count": 111,
   "metadata": {
    "collapsed": false
   },
   "outputs": [
    {
     "name": "stdout",
     "output_type": "stream",
     "text": [
      "training time: 0.002 s\n",
      "testing time: 0.0 s\n",
      "Accuracy:  0.813953488372\n",
      "Precision:  0.125\n",
      "Recall:  0.5\n"
     ]
    }
   ],
   "source": [
    "from time import time\n",
    "from sklearn.linear_model import LogisticRegression\n",
    "from sklearn.metrics import accuracy_score, precision_score, recall_score\n",
    "clf = LogisticRegression()\n",
    "\n",
    "t0 = time()\n",
    "clf.fit(features_train, labels_train)\n",
    "print(\"training time:\", round(time()-t0, 3), \"s\")\n",
    "\n",
    "t1 = time()\n",
    "pred = clf.predict(features_test)\n",
    "print(\"testing time:\", round(time()-t1, 3), \"s\")\n",
    "\n",
    "print(\"Accuracy: \", accuracy_score(labels_test, pred))\n",
    "print(\"Precision: \", precision_score(labels_test, pred))\n",
    "print(\"Recall: \", recall_score(labels_test, pred))"
   ]
  },
  {
   "cell_type": "code",
   "execution_count": 112,
   "metadata": {
    "collapsed": false
   },
   "outputs": [
    {
     "name": "stdout",
     "output_type": "stream",
     "text": [
      "training time: 0.002 s\n",
      "testing time: 0.001 s\n",
      "Accuracy:  0.906976744186\n",
      "Precision:  0.25\n",
      "Recall:  0.5\n"
     ]
    }
   ],
   "source": [
    "from sklearn.naive_bayes import GaussianNB\n",
    "clf = GaussianNB()\n",
    "\n",
    "t0 = time()\n",
    "clf.fit(features_train, labels_train)\n",
    "print(\"training time:\", round(time()-t0, 3), \"s\")\n",
    "\n",
    "t1 = time()\n",
    "pred = clf.predict(features_test)\n",
    "print(\"testing time:\", round(time()-t1, 3), \"s\")\n",
    "\n",
    "print(\"Accuracy: \", accuracy_score(labels_test, pred))\n",
    "print(\"Precision: \", precision_score(labels_test, pred))\n",
    "print(\"Recall: \", recall_score(labels_test, pred))"
   ]
  },
  {
   "cell_type": "code",
   "execution_count": 150,
   "metadata": {
    "collapsed": false
   },
   "outputs": [
    {
     "name": "stdout",
     "output_type": "stream",
     "text": [
      "training time: 0.001 s\n",
      "testing time: 0.0 s\n",
      "Accuracy:  0.906976744186\n",
      "Precision:  0.0\n",
      "Recall:  0.0\n"
     ]
    }
   ],
   "source": [
    "from sklearn import tree\n",
    "clf = tree.DecisionTreeClassifier()\n",
    "\n",
    "t0 = time()\n",
    "clf.fit(features_train, labels_train)\n",
    "print(\"training time:\", round(time()-t0, 3), \"s\")\n",
    "\n",
    "t1 = time()\n",
    "pred = clf.predict(features_test)\n",
    "print(\"testing time:\", round(time()-t1, 3), \"s\")\n",
    "\n",
    "print(\"Accuracy: \", accuracy_score(labels_test, pred))\n",
    "print(\"Precision: \", precision_score(labels_test, pred))\n",
    "print(\"Recall: \", recall_score(labels_test, pred))"
   ]
  },
  {
   "cell_type": "code",
   "execution_count": 117,
   "metadata": {
    "collapsed": false
   },
   "outputs": [
    {
     "name": "stdout",
     "output_type": "stream",
     "text": [
      "training time: 0.001 s\n",
      "testing time: 0.001 s\n",
      "Accuracy:  0.953488372093\n",
      "Precision:  0.5\n",
      "Recall:  0.5\n"
     ]
    }
   ],
   "source": [
    "from sklearn.neighbors import KNeighborsClassifier\n",
    "clf = KNeighborsClassifier()\n",
    "\n",
    "t0 = time()\n",
    "clf.fit(features_train, labels_train)\n",
    "print(\"training time:\", round(time()-t0, 3), \"s\")\n",
    "\n",
    "t1 = time()\n",
    "pred = clf.predict(features_test)\n",
    "print(\"testing time:\", round(time()-t1, 3), \"s\")\n",
    "\n",
    "print(\"Accuracy: \", accuracy_score(labels_test, pred))\n",
    "print(\"Precision: \", precision_score(labels_test, pred))\n",
    "print(\"Recall: \", recall_score(labels_test, pred))"
   ]
  },
  {
   "cell_type": "code",
   "execution_count": null,
   "metadata": {
    "collapsed": true
   },
   "outputs": [],
   "source": []
  }
 ],
 "metadata": {
  "kernelspec": {
   "display_name": "Python 3",
   "language": "python",
   "name": "python3"
  },
  "language_info": {
   "codemirror_mode": {
    "name": "ipython",
    "version": 3
   },
   "file_extension": ".py",
   "mimetype": "text/x-python",
   "name": "python",
   "nbconvert_exporter": "python",
   "pygments_lexer": "ipython3",
   "version": "3.5.2"
  }
 },
 "nbformat": 4,
 "nbformat_minor": 0
}

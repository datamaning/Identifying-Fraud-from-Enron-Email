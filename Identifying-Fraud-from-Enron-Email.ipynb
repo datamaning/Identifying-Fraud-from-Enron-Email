{
 "cells": [
  {
   "cell_type": "markdown",
   "metadata": {},
   "source": [
    "## 从安然公司邮件中识别欺诈行为"
   ]
  },
  {
   "cell_type": "markdown",
   "metadata": {},
   "source": [
    "### 项目概述"
   ]
  },
  {
   "cell_type": "markdown",
   "metadata": {},
   "source": [
    "在2000年,安然公司是美国最大的公司之一。到2002时，由于广泛的公司欺诈，它已崩溃到破产中。在由此产生的联邦调查中，有相当数量机密信息进入公众眼前，包括成千上万的电子邮件和详细的财务数据。安然欺诈案是一个混乱而又引人入胜的大事件，从中可以发现几乎所有想像得到的企业违法行为。\n",
    "\n",
    "在这个项目中，我将使用Python机器学习库：[scikit-learn](http://scikit-learn.org/) 和安然电子邮件和财务数据，来建立模型，识别欺诈行为。\n",
    "\n",
    "本项目将运用到以下知识：\n",
    "- 特征缩放和特征选择\n",
    "- "
   ]
  },
  {
   "cell_type": "markdown",
   "metadata": {},
   "source": [
    "### 安然数据集"
   ]
  },
  {
   "cell_type": "code",
   "execution_count": 1,
   "metadata": {
    "collapsed": false
   },
   "outputs": [],
   "source": [
    "import matplotlib.pyplot as plt\n",
    "%matplotlib inline\n",
    "import pickle\n",
    "from sklearn import preprocessing\n",
    "from time import time\n",
    "from sklearn.naive_bayes import GaussianNB\n",
    "from sklearn.metrics import accuracy_score\n",
    "from sklearn.grid_search import GridSearchCV\n",
    "from sklearn.metrics import precision_score\n",
    "from sklearn.metrics import recall_score\n",
    "\n",
    "\n",
    "from feature_format import featureFormat\n",
    "from feature_format import targetFeatureSplit\n",
    "\n",
    "# 特征，第一个必须是'poi'，因为这是类标号\n",
    "features_list = [\"poi\"]\n",
    "\n",
    "# 加载数据集\n",
    "data_dict = pickle.load(open(\"./data/final_project_dataset.pkl\", \"rb\"))"
   ]
  },
  {
   "cell_type": "code",
   "execution_count": 2,
   "metadata": {
    "collapsed": false
   },
   "outputs": [
    {
     "name": "stdout",
     "output_type": "stream",
     "text": [
      "There are  146  executives in Enron Dataset.\n"
     ]
    }
   ],
   "source": [
    "print(\"There are \", len(data_dict.keys()), \" executives in Enron Dataset.\")\n",
    "# print(data_dict.keys())\n",
    "# print(data_dict['BUY RICHARD B'])"
   ]
  },
  {
   "cell_type": "markdown",
   "metadata": {},
   "source": [
    "原始数据集包含146条记录（人），14个财务数据特征，6个电子邮件特征，1个类标号（POI）；一共有18人被标记为嫌疑人（POI）"
   ]
  },
  {
   "cell_type": "markdown",
   "metadata": {},
   "source": [
    "首先，我想看看我的数据，并检查它的异常值。我绘画了安然公司员工的工资和奖金散点图，并看到了数据中的一个孤立点。 "
   ]
  },
  {
   "cell_type": "code",
   "execution_count": 3,
   "metadata": {
    "collapsed": false
   },
   "outputs": [
    {
     "data": {
      "image/png": "[encoded data removed]",
      "text/plain": [
       "<matplotlib.figure.Figure at 0x7f397c0e2278>"
      ]
     },
     "metadata": {},
     "output_type": "display_data"
    }
   ],
   "source": [
    "features = [\"salary\", \"bonus\"]\n",
    "\n",
    "data = featureFormat(data_dict, features)\n",
    "# plot features\n",
    "for point in data:\n",
    "    salary = point[0]\n",
    "    bonus = point[1]\n",
    "    plt.scatter( salary, bonus )\n",
    "\n",
    "plt.xlabel(\"salary\")\n",
    "plt.ylabel(\"bonus\")\n",
    "plt.show()"
   ]
  },
  {
   "cell_type": "markdown",
   "metadata": {},
   "source": [
    "查询数据集后，发现这是一个总工资和奖金的数字，即把**TOTAL**也当做了一名员工，事实上，**TOTAL**是各个财务特征的总和，由于这是不明智的信息，我手动删除它。还发现还要两个离群值（SKILLING JEFFREY和LAY KENNETH），但我保留这些值，其实这已经标志着这两个经理参与诈骗。现在数据集看起来像这样： "
   ]
  },
  {
   "cell_type": "code",
   "execution_count": 4,
   "metadata": {
    "collapsed": false
   },
   "outputs": [
    {
     "name": "stdout",
     "output_type": "stream",
     "text": [
      "[('SKILLING JEFFREY K', 1111258), ('LAY KENNETH L', 1072321), ('FREVERT MARK A', 1060932), ('PICKERING MARK R', 655037)]\n"
     ]
    },
    {
     "data": {
      "image/png": "[encoded data removed]",
      "text/plain": [
       "<matplotlib.figure.Figure at 0x7f394dbe6780>"
      ]
     },
     "metadata": {},
     "output_type": "display_data"
    }
   ],
   "source": [
    "### 去除异常值\n",
    "features = [\"salary\", \"bonus\"]\n",
    "data_dict.pop('TOTAL', 0)\n",
    "data = featureFormat(data_dict, features)\n",
    "\n",
    "### 删除数据集中'NaN'\n",
    "outliers = []\n",
    "for key in data_dict:\n",
    "    val = data_dict[key]['salary']\n",
    "    if val == 'NaN':\n",
    "        continue\n",
    "    outliers.append((key, int(val)))\n",
    "\n",
    "outliers_final = (sorted(outliers,key=lambda x:x[1],reverse=True)[:4])\n",
    "### print top 4 salaries\n",
    "print(outliers_final)\n",
    "\n",
    "# plot features\n",
    "for point in data:\n",
    "    salary = point[0]\n",
    "    bonus = point[1]\n",
    "    plt.scatter( salary, bonus )\n",
    "\n",
    "plt.xlabel(\"salary\")\n",
    "plt.ylabel(\"bonus\")\n",
    "plt.show()"
   ]
  },
  {
   "cell_type": "markdown",
   "metadata": {},
   "source": [
    "### 特征选择"
   ]
  },
  {
   "cell_type": "markdown",
   "metadata": {},
   "source": [
    "清理后的数据从离群点，我不得不凭感觉选择有用的特征。首先，选择特征**from this person to poi**和**this person from poi**，应该与是否为POI和有关系，于是画出这两个特征的散点图："
   ]
  },
  {
   "cell_type": "code",
   "execution_count": 5,
   "metadata": {
    "collapsed": false
   },
   "outputs": [
    {
     "data": {
      "image/png": "[encoded data removed]",
      "text/plain": [
       "<matplotlib.figure.Figure at 0x7f394dbdfdd8>"
      ]
     },
     "metadata": {},
     "output_type": "display_data"
    }
   ],
   "source": [
    "features_list = [\"poi\", \"from_this_person_to_poi\", \"from_poi_to_this_person\"]    \n",
    "# 保存清理离群点后的数据\n",
    "my_dataset = data_dict\n",
    "\n",
    "# 原数据集为字典类型，python字典不能直接读入到sklearn分类或回归算法中，我编写了一些辅助函数`featureFormat()`，\n",
    "# 它可以获取特征名的列表和数据字典，然后返回`numpy`数组,如果特征没有某个特定人员的值(即NaN)，此函数还会用 0替换特征值。\n",
    "data = featureFormat(my_dataset, features_list)\n",
    "\n",
    "### plot new features\n",
    "for point in data:\n",
    "    from_poi = point[1]\n",
    "    to_poi = point[2]\n",
    "    if point[0] == 1:\n",
    "        plt.scatter(from_poi, to_poi, color=\"r\")\n",
    "    else:\n",
    "        plt.scatter(from_poi, to_poi, color=\"b\")\n",
    "\n",
    "plt.xlabel('from this person to poi')\n",
    "plt.ylabel('from poi to this person')\n",
    "plt.show()"
   ]
  },
  {
   "cell_type": "markdown",
   "metadata": {},
   "source": [
    "但是从绘制出的散点图来看，特征**from this person to poi**和**this person from poi**并没有很强关系可以挖掘，以区分是否为POI。于是，创建两个新特征**fraction_from_poi_email**和**fraction_to_poi_email**，分别代表来自POI的电子邮件数占总收到的电子邮件数的比例、发生给POI的电子邮件数占总发送电子邮件数的比例："
   ]
  },
  {
   "cell_type": "code",
   "execution_count": 6,
   "metadata": {
    "collapsed": false
   },
   "outputs": [
    {
     "data": {
      "image/png": "[encoded data removed]",
      "text/plain": [
       "<matplotlib.figure.Figure at 0x7f394d982fd0>"
      ]
     },
     "metadata": {},
     "output_type": "display_data"
    }
   ],
   "source": [
    "# 创建新特征\n",
    "# new features are: fraction_to_poi_email,fraction_from_poi_email\n",
    "\n",
    "def dict_to_list(key,normalizer):\n",
    "    new_list=[]\n",
    "\n",
    "    for i in data_dict:\n",
    "        if data_dict[i][key]==\"NaN\" or data_dict[i][normalizer]==\"NaN\":\n",
    "            new_list.append(0.)\n",
    "        elif data_dict[i][key]>=0:\n",
    "            new_list.append(float(data_dict[i][key])/float(data_dict[i][normalizer]))\n",
    "    return new_list\n",
    "\n",
    "### create two lists of new features\n",
    "fraction_from_poi_email=dict_to_list(\"from_poi_to_this_person\",\"to_messages\")\n",
    "fraction_to_poi_email=dict_to_list(\"from_this_person_to_poi\",\"from_messages\")\n",
    "\n",
    "### insert new features into data_dict\n",
    "count=0\n",
    "for i in data_dict:\n",
    "    data_dict[i][\"fraction_from_poi_email\"]=fraction_from_poi_email[count]\n",
    "    data_dict[i][\"fraction_to_poi_email\"]=fraction_to_poi_email[count]\n",
    "    count +=1\n",
    "\n",
    "    \n",
    "features_list = [\"poi\", \"fraction_from_poi_email\", \"fraction_to_poi_email\"]    \n",
    "    ### store to my_dataset for easy export below\n",
    "my_dataset = data_dict\n",
    "\n",
    "\n",
    "### these two lines extract the features specified in features_list\n",
    "### and extract them from data_dict, returning a numpy array\n",
    "data = featureFormat(my_dataset, features_list)\n",
    "\n",
    "### plot new features\n",
    "for point in data:\n",
    "    from_poi = point[1]\n",
    "    to_poi = point[2]\n",
    "    plt.scatter( from_poi, to_poi )\n",
    "    if point[0] == 1:\n",
    "        plt.scatter(from_poi, to_poi, color=\"r\", marker=\"*\")\n",
    "plt.xlabel(\"fraction of emails this person gets from poi\")\n",
    "plt.show()"
   ]
  },
  {
   "cell_type": "markdown",
   "metadata": {},
   "source": [
    "从这个新的散点图，我们似乎可以发现红色的数据点（POI）聚集在散点图的中心。"
   ]
  },
  {
   "cell_type": "markdown",
   "metadata": {},
   "source": [
    "为了找到最有效的特征进行分类，使用“决策树”的特征选择重要性排名的功能。选择功能是半手动迭代过程。我先把所有可能的功能为features_list然后开始删除逐一用评分值和人的直觉。"
   ]
  },
  {
   "cell_type": "code",
   "execution_count": 7,
   "metadata": {
    "collapsed": false
   },
   "outputs": [
    {
     "name": "stdout",
     "output_type": "stream",
     "text": [
      "Accuracy:  0.833333333333\n",
      "Precision:  0.363636363636\n",
      "Recall:  0.444444444444\n",
      "Decision tree algorithm time: 0.004 s\n",
      "Feature Ranking: \n",
      "1 feature salary (0.27089947089947086)\n",
      "2 feature bonus (0.2659340659340658)\n",
      "3 feature fraction_from_poi_email (0.22010582010582008)\n",
      "4 feature fraction_to_poi_email (0.1245421245421247)\n",
      "5 feature deferral_payments (0.11851851851851847)\n",
      "6 feature total_payments (0.0)\n",
      "7 feature loan_advances (0.0)\n",
      "8 feature restricted_stock_deferred (0.0)\n",
      "9 feature deferred_income (0.0)\n",
      "10 feature total_stock_value (0.0)\n",
      "11 feature expenses (0.0)\n",
      "12 feature exercised_stock_options (0.0)\n",
      "13 feature long_term_incentive (0.0)\n",
      "14 feature shared_receipt_with_poi (0.0)\n",
      "15 feature restricted_stock (0.0)\n",
      "16 feature director_fees (0.0)\n"
     ]
    }
   ],
   "source": [
    "features_list = [\"poi\", \"salary\", \"bonus\", \"fraction_from_poi_email\", \"fraction_to_poi_email\",\n",
    "                 'deferral_payments', 'total_payments', 'loan_advances', 'restricted_stock_deferred',\n",
    "                 'deferred_income', 'total_stock_value', 'expenses', 'exercised_stock_options',\n",
    "                 'long_term_incentive', 'shared_receipt_with_poi', 'restricted_stock', 'director_fees']\n",
    "data = featureFormat(my_dataset, features_list)\n",
    "\n",
    "# 分开类标号和特征\n",
    "labels, features = targetFeatureSplit(data)\n",
    "\n",
    "### split data into training and testing datasets\n",
    "from sklearn import cross_validation\n",
    "features_train, features_test, labels_train, labels_test = cross_validation.train_test_split(features, labels, test_size=0.5, random_state=1)\n",
    "\n",
    "\n",
    "from sklearn.tree import DecisionTreeClassifier\n",
    "from sklearn.metrics import accuracy_score, precision_score, recall_score\n",
    "\n",
    "t0 = time()\n",
    "\n",
    "clf = DecisionTreeClassifier(random_state=2)\n",
    "clf.fit(features_train,labels_train)\n",
    "pred= clf.predict(features_test)\n",
    "print(\"Accuracy: \", accuracy_score(labels_test, pred))\n",
    "print(\"Precision: \", precision_score(labels_test, pred))\n",
    "print(\"Recall: \", recall_score(labels_test, pred))\n",
    "\n",
    "print(\"Decision tree algorithm time:\", round(time()-t0, 3), \"s\")\n",
    "\n",
    "\n",
    "\n",
    "importances = clf.feature_importances_\n",
    "import numpy as np\n",
    "indices = np.argsort(importances)[::-1]\n",
    "print('Feature Ranking: ')\n",
    "for i in range(16):\n",
    "    print(\"{} feature {} ({})\".format(i+1,features_list[i+1],importances[indices[i]]))"
   ]
  },
  {
   "cell_type": "markdown",
   "metadata": {},
   "source": [
    "最后我选择10个特征:\n",
    "\n",
    "    [\"salary\", \"bonus\", \"fraction_from_poi_email\", \"fraction_to_poi_email\", 'deferral_payments', 'total_payments', 'loan_advances', 'restricted_stock_deferred', 'deferred_income', 'total_stock_value']"
   ]
  },
  {
   "cell_type": "code",
   "execution_count": 8,
   "metadata": {
    "collapsed": false
   },
   "outputs": [
    {
     "name": "stdout",
     "output_type": "stream",
     "text": [
      "Accuracy:  0.361111111111\n",
      "Decision tree algorithm time: 0.002 s\n"
     ]
    }
   ],
   "source": [
    "features_list2 = [\"salary\", \"bonus\", \"fraction_from_poi_email\", \"fraction_to_poi_email\", 'deferral_payments', \\\n",
    "                 'total_payments', 'loan_advances', 'restricted_stock_deferred', 'deferred_income', 'total_stock_value']\n",
    "data2 = featureFormat(my_dataset, features_list2)\n",
    "\n",
    "# 分开类标号和特征\n",
    "labels2, features2 = targetFeatureSplit(data2)\n",
    "\n",
    "### split data into training and testing datasets\n",
    "from sklearn import cross_validation\n",
    "features_train2, features_test2, labels_train2, labels_test2 = cross_validation.train_test_split(features2, labels2, test_size=0.5, random_state=1)\n",
    "\n",
    "t0 = time()\n",
    "\n",
    "clf = DecisionTreeClassifier(random_state=2)\n",
    "clf.fit(features_train2,labels_train2)\n",
    "pred = clf.predict(features_test2)\n",
    "print(\"Accuracy: \", accuracy_score(labels_test2, pred))\n",
    "# print(\"Precision: \", precision_score(labels_test2, pred))\n",
    "# print(\"Recall: \", recall_score(labels_test2, pred))\n",
    "\n",
    "print(\"Decision tree algorithm time:\", round(time()-t0, 3), \"s\")"
   ]
  },
  {
   "cell_type": "markdown",
   "metadata": {},
   "source": [
    "但这些特征的精度和召回率太低（小于0.3），所以我不得不改变我的战略和手动选择功能，给我的精度和召回率超过0.3。在这一次我使用我的算法精度评价因为只有有几个'poi'==1的数据在数据集中，所有最好的评指标为的准确率和召回率。在数据集只有18例中毒。有35人在“现实生活“，但由于各种原因，一半的人都不在该数据集。"
   ]
  },
  {
   "cell_type": "markdown",
   "metadata": {},
   "source": [
    "最后我选择: \n",
    "\n",
    "    [\"fraction_from_poi_email\", \"fraction_to_poi_email\", “shared_receipt_with_poi”]"
   ]
  },
  {
   "cell_type": "code",
   "execution_count": 9,
   "metadata": {
    "collapsed": true
   },
   "outputs": [],
   "source": [
    "features_list3 = [\"poi\", \"fraction_from_poi_email\", \"fraction_to_poi_email\", \"shared_receipt_with_poi\"]\n",
    "\n",
    "data3 = featureFormat(my_dataset, features_list3)\n",
    "\n",
    "# 分开类标号和特征\n",
    "labels3, features3 = targetFeatureSplit(data3)\n",
    "\n",
    "### split data into training and testing datasets\n",
    "from sklearn import cross_validation\n",
    "features_train3, features_test3, labels_train3, labels_test3 = cross_validation.train_test_split(features3, labels3, test_size=0.5, random_state=1)"
   ]
  },
  {
   "cell_type": "markdown",
   "metadata": {},
   "source": [
    "### 算法选择"
   ]
  },
  {
   "cell_type": "markdown",
   "metadata": {},
   "source": [
    "#### Logistic回归"
   ]
  },
  {
   "cell_type": "code",
   "execution_count": 10,
   "metadata": {
    "collapsed": false
   },
   "outputs": [
    {
     "name": "stdout",
     "output_type": "stream",
     "text": [
      "Accuracy:  0.790697674419\n",
      "Precision:  0.0\n",
      "Recall:  0.0\n",
      "Logistic Regression algorithm time: 0.265 s\n"
     ]
    },
    {
     "name": "stderr",
     "output_type": "stream",
     "text": [
      "/home/chauncey/anaconda3/lib/python3.5/site-packages/sklearn/metrics/classification.py:1074: UndefinedMetricWarning: Precision is ill-defined and being set to 0.0 due to no predicted samples.\n",
      "  'precision', 'predicted', average, warn_for)\n"
     ]
    }
   ],
   "source": [
    "from sklearn.linear_model import LogisticRegression\n",
    "clf = LogisticRegression()\n",
    "\n",
    "clf.fit(features_train3,labels_train3)\n",
    "pred= clf.predict(features_test3)\n",
    "print(\"Accuracy: \", accuracy_score(labels_test3, pred))\n",
    "print(\"Precision: \", precision_score(labels_test3, pred))\n",
    "print(\"Recall: \", recall_score(labels_test3, pred))\n",
    "\n",
    "print(\"Logistic Regression algorithm time:\", round(time()-t0, 3), \"s\")"
   ]
  },
  {
   "cell_type": "markdown",
   "metadata": {},
   "source": [
    "#### 决策树"
   ]
  },
  {
   "cell_type": "code",
   "execution_count": 11,
   "metadata": {
    "collapsed": false
   },
   "outputs": [
    {
     "name": "stdout",
     "output_type": "stream",
     "text": [
      "Accuracy:  0.697674418605\n",
      "Precision:  0.3\n",
      "Recall:  0.333333333333\n",
      "Decision tree algorithm time: 0.003 s\n"
     ]
    }
   ],
   "source": [
    "t0 = time()\n",
    "\n",
    "clf = DecisionTreeClassifier(random_state=4)\n",
    "clf.fit(features_train3,labels_train3)\n",
    "pred= clf.predict(features_test3)\n",
    "print(\"Accuracy: \", accuracy_score(labels_test3, pred))\n",
    "print(\"Precision: \", precision_score(labels_test3, pred))\n",
    "print(\"Recall: \", recall_score(labels_test3, pred))\n",
    "\n",
    "print(\"Decision tree algorithm time:\", round(time()-t0, 3), \"s\")"
   ]
  },
  {
   "cell_type": "markdown",
   "metadata": {},
   "source": [
    "#### 朴素贝叶斯"
   ]
  },
  {
   "cell_type": "code",
   "execution_count": 12,
   "metadata": {
    "collapsed": false
   },
   "outputs": [
    {
     "name": "stdout",
     "output_type": "stream",
     "text": [
      "Accuracy:  0.813953488372\n",
      "Precision:  1.0\n",
      "Recall:  0.111111111111\n",
      "NB algorithm time: 0.007 s\n"
     ]
    }
   ],
   "source": [
    "# 尝试使用GaussianNB去预测\n",
    "t0 = time()\n",
    "\n",
    "clf = GaussianNB()\n",
    "clf.fit(features_train3, labels_train3)\n",
    "pred = clf.predict(features_test3)\n",
    "print(\"Accuracy: \", accuracy_score(labels_test3, pred))\n",
    "print(\"Precision: \", precision_score(labels_test3, pred))\n",
    "print(\"Recall: \", recall_score(labels_test3, pred))\n",
    "\n",
    "print(\"NB algorithm time:\", round(time()-t0, 3), \"s\")"
   ]
  },
  {
   "cell_type": "markdown",
   "metadata": {},
   "source": [
    "首先，我尝试Logistic回归、朴素贝叶斯精度比决策树算法（分别为0.83、0.81和0.81）。于是还要进一步优化。"
   ]
  },
  {
   "cell_type": "markdown",
   "metadata": {},
   "source": [
    "### 验证"
   ]
  },
  {
   "cell_type": "code",
   "execution_count": 13,
   "metadata": {
    "collapsed": false
   },
   "outputs": [
    {
     "name": "stdout",
     "output_type": "stream",
     "text": [
      "accuracy before tuning  0.928571428571\n",
      "Decision tree algorithm time: 0.002 s\n",
      "done in 0.002s\n",
      "Validating algorithm:\n",
      "accuracy after tuning =  0.928571428571\n",
      "precision =  1.0\n",
      "recall =  0.333333333333\n"
     ]
    }
   ],
   "source": [
    "# 特征列表\n",
    "features_list = [\"poi\", \"fraction_from_poi_email\", \"fraction_to_poi_email\", 'shared_receipt_with_poi']\n",
    "\n",
    "# 保存经过预处理的数据集\n",
    "my_dataset = data_dict\n",
    "\n",
    "# 原数据集为字典类型，python字典不能直接读入到sklearn分类或回归算法中，我编写了一些辅助函数`featureFormat()`，\n",
    "# 它可以获取特征名的列表和数据字典，然后返回`numpy`数组,如果特征没有某个特定人员的值(即NaN)，此函数还会用 0替换特征值。\n",
    "data = featureFormat(my_dataset, features_list)\n",
    "\n",
    "# 分开类标号和特征\n",
    "labels, features = targetFeatureSplit(data)\n",
    "\n",
    "\n",
    "# 交叉验证\n",
    "from sklearn import cross_validation\n",
    "features_train, features_test, labels_train, labels_test = cross_validation.train_test_split(features, labels, test_size=0.5, random_state=1)\n",
    "\n",
    "### use KFold for split and validate algorithm\n",
    "from sklearn.cross_validation import KFold\n",
    "kf=KFold(len(labels),3)\n",
    "for train_indices, test_indices in kf:\n",
    "    # make training and testing sets\n",
    "    features_train= [features[ii] for ii in train_indices]\n",
    "    features_test= [features[ii] for ii in test_indices]\n",
    "    labels_train=[labels[ii] for ii in train_indices]\n",
    "    labels_test=[labels[ii] for ii in test_indices]\n",
    "\n",
    "    \n",
    "# 决策树\n",
    "from sklearn.tree import DecisionTreeClassifier\n",
    "\n",
    "t0 = time()\n",
    "\n",
    "clf = DecisionTreeClassifier(random_state=0)\n",
    "clf.fit(features_train,labels_train)\n",
    "score = clf.score(features_test,labels_test)\n",
    "print('accuracy before tuning ', score)\n",
    "\n",
    "print(\"Decision tree algorithm time:\", round(time()-t0, 3), \"s\")\n",
    "\n",
    "### use manual tuning parameter min_samples_split\n",
    "t0 = time()\n",
    "clf2 = DecisionTreeClassifier(min_samples_split=5, random_state=0)\n",
    "clf2 = clf2.fit(features_train,labels_train)\n",
    "pred2 = clf2.predict(features_test)\n",
    "print(\"done in %0.3fs\" % (time() - t0))\n",
    "\n",
    "print(\"Validating algorithm:\")\n",
    "print(\"accuracy after tuning = \", accuracy_score(labels_test, pred2))\n",
    "print('precision = ', precision_score(labels_test,pred2))\n",
    "print('recall = ', recall_score(labels_test,pred2))\n",
    "#############################################################################\n",
    "\n",
    "\n",
    "\n",
    "### dump your classifier, dataset and features_list so\n",
    "### anyone can run/check your results\n",
    "pickle.dump(clf, open(\"my_classifier.pkl\", \"wb\") )\n",
    "pickle.dump(data_dict, open(\"my_dataset.pkl\", \"wb\") )\n",
    "pickle.dump(features_list, open(\"my_feature_list.pkl\", \"wb\"))"
   ]
  },
  {
   "cell_type": "markdown",
   "metadata": {
    "collapsed": true
   },
   "source": [
    "### 讨论和结论"
   ]
  },
  {
   "cell_type": "markdown",
   "metadata": {
    "collapsed": true
   },
   "source": [
    "精度可以被解释为，一个人被确定为一个POI实际上是一个真正的POI的可能性。召回率，标识将在测试集的POI标志的可能性有多大。50%的时间，它会抓住那个人，50%的时间它不会。\n",
    "\n",
    "这些数字是看上去相当不错的，但现实生活中，我们很难获取财务数据，这说明很难使用该模型去识别欺诈行为。改进的可能路径之一是挖掘的更多电子邮件数据。在该数据集的电子邮件特征汇总了所有的电子邮件数量，而并没有挖掘电子邮件的具体内容，所有通过挖掘每个人的邮件的文本，它是可能的，例如，特定词汇的使用/信息，就可以实现识别欺诈行为。"
   ]
  },
  {
   "cell_type": "code",
   "execution_count": null,
   "metadata": {
    "collapsed": true
   },
   "outputs": [],
   "source": []
  }
 ],
 "metadata": {
  "kernelspec": {
   "display_name": "Python 3",
   "language": "python",
   "name": "python3"
  },
  "language_info": {
   "codemirror_mode": {
    "name": "ipython",
    "version": 3
   },
   "file_extension": ".py",
   "mimetype": "text/x-python",
   "name": "python",
   "nbconvert_exporter": "python",
   "pygments_lexer": "ipython3",
   "version": "3.5.2"
  }
 },
 "nbformat": 4,
 "nbformat_minor": 0
}
